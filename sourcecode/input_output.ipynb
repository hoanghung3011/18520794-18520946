{
  "nbformat": 4,
  "nbformat_minor": 0,
  "metadata": {
    "colab": {
      "name": "Random_input_out.ipynb",
      "provenance": [],
      "collapsed_sections": []
    },
    "kernelspec": {
      "name": "python3",
      "display_name": "Python 3"
    }
  },
  "cells": [
    {
      "cell_type": "code",
      "metadata": {
        "id": "UZAT90Wk5Zcy"
      },
      "source": [
        "import random as random\r\n",
        "def rand_list(list_to,sotien,list_tien):\r\n",
        "  foo =[500000,200000,100000,50000,20000]\r\n",
        "  #random.seed(0)  # don't use seed function, if you want different results in each run\r\n",
        "  for i in range(10):\r\n",
        "    list_tien += random.sample(foo,4)\r\n",
        "  list_to += random.sample(list_tien,10)\r\n",
        "  for i in list_to:\r\n",
        "    sotien = sotien + i\r\n",
        "  return list_tien,sotien,list_to\r\n",
        "n = 0 \r\n",
        "list_tien = []\r\n",
        "list_totien = []\r\n",
        "list_sotien = []\r\n",
        "while n < 1000 :\r\n",
        "  sotien = 0\r\n",
        "  list_to = []\r\n",
        "  list_tien2 = []\r\n",
        "  list_tien2,sotien,list_to = rand_list(list_to,sotien,list_tien2)\r\n",
        "  list_tien.append(list_tien2)\r\n",
        "  n += 1\r\n",
        "  list_totien.append(list_to)\r\n",
        "  list_sotien.append(sotien)\r\n",
        "  list_tien2.clear\r\n",
        "  list_to.clear"
      ],
      "execution_count": null,
      "outputs": []
    },
    {
      "cell_type": "code",
      "metadata": {
        "colab": {
          "base_uri": "https://localhost:8080/"
        },
        "id": "Gstru720J4iZ",
        "outputId": "f933844b-37eb-403f-8315-e7e02b76bc6f"
      },
      "source": [
        "import pandas as pd\r\n",
        "data = {\r\n",
        "    'List tien':list_tien,\r\n",
        "    'So tien can rut':list_sotien,\r\n",
        "    'To tien tra ra' : list_totien\r\n",
        "}\r\n",
        "data = pd.DataFrame(data)\r\n",
        "print(data)\r\n",
        "data.to_csv(\"data_test.csv\",index=False)"
      ],
      "execution_count": null,
      "outputs": [
        {
          "output_type": "stream",
          "text": [
            "                                             List Tiền  ...                                     Tờ Tiền Trả Ra\n",
            "0    [200000, 50000, 500000, 100000, 100000, 50000,...  ...  [200000, 500000, 100000, 500000, 100000, 50000...\n",
            "1    [20000, 500000, 200000, 100000, 200000, 20000,...  ...  [500000, 100000, 50000, 500000, 200000, 200000...\n",
            "2    [50000, 200000, 500000, 20000, 500000, 20000, ...  ...  [500000, 200000, 200000, 500000, 50000, 500000...\n",
            "3    [100000, 50000, 20000, 200000, 500000, 20000, ...  ...  [100000, 100000, 200000, 50000, 500000, 100000...\n",
            "4    [20000, 500000, 50000, 100000, 20000, 200000, ...  ...  [20000, 500000, 100000, 20000, 20000, 200000, ...\n",
            "..                                                 ...  ...                                                ...\n",
            "995  [500000, 50000, 200000, 20000, 20000, 100000, ...  ...  [20000, 500000, 200000, 20000, 500000, 20000, ...\n",
            "996  [500000, 50000, 20000, 200000, 100000, 500000,...  ...  [100000, 500000, 20000, 500000, 50000, 20000, ...\n",
            "997  [50000, 100000, 500000, 20000, 100000, 50000, ...  ...  [500000, 200000, 500000, 50000, 20000, 200000,...\n",
            "998  [200000, 500000, 20000, 100000, 50000, 100000,...  ...  [50000, 20000, 200000, 500000, 50000, 200000, ...\n",
            "999  [20000, 50000, 100000, 200000, 200000, 500000,...  ...  [50000, 20000, 50000, 50000, 20000, 50000, 500...\n",
            "\n",
            "[1000 rows x 3 columns]\n"
          ],
          "name": "stdout"
        }
      ]
    }
  ]
}